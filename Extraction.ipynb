{
 "cells": [
  {
   "cell_type": "code",
   "execution_count": 1,
   "id": "ebc77434-3c35-4235-b442-b189eaafc4ed",
   "metadata": {},
   "outputs": [],
   "source": [
    "# Step 1: Import necessary libraries\n",
    "import os\n",
    "import numpy as np\n",
    "import matplotlib.pyplot as plt\n",
    "from skimage.feature import hog\n",
    "from skimage import io, color\n",
    "import requests\n"
   ]
  },
  {
   "cell_type": "code",
   "execution_count": 2,
   "id": "d05cdb89-6281-41a1-a338-bf5570150454",
   "metadata": {},
   "outputs": [],
   "source": [
    "# Step 2: Import the custom script for downloading and extracting images\n",
    "# If your `extract_images.py` file is in the same folder, you can import the functions here\n",
    "from extract_images import download_and_extract_zip, get_image_paths"
   ]
  },
  {
   "cell_type": "code",
   "execution_count": 3,
   "id": "db003a20-9aa3-4709-8203-ced619978bfb",
   "metadata": {},
   "outputs": [],
   "source": [
    "# Step 3: Function for HOG feature extraction\n",
    "def extract_hog_features(image_path):\n",
    "    # Load the image\n",
    "    image = io.imread(image_path)\n",
    "    \n",
    "    # Convert the image to grayscale if it’s a color image\n",
    "    if len(image.shape) == 3:\n",
    "        image = color.rgb2gray(image)\n",
    "    \n",
    "    # Extract HOG features and the HOG image\n",
    "    features, hog_image = hog(image, pixels_per_cell=(8, 8), cells_per_block=(2, 2), visualize=True)\n",
    "    \n",
    "    return features, hog_image"
   ]
  },
  {
   "cell_type": "code",
   "execution_count": 4,
   "id": "8ef33ab6-bdf1-4775-a33d-c71993d8f83c",
   "metadata": {},
   "outputs": [],
   "source": [
    "# Step 4: Function to test the feature extraction process on multiple images\n",
    "def test_feature_extraction(image_paths):\n",
    "    for path in image_paths:\n",
    "        # Check if the file exists\n",
    "        if os.path.exists(path):\n",
    "            features, hog_image = extract_hog_features(path)\n",
    "            # Display the HOG image\n",
    "            plt.imshow(hog_image, cmap=plt.cm.gray)\n",
    "            plt.title(f'HOG Features for {path}')\n",
    "            plt.show()\n",
    "            # Print a portion of the feature vector\n",
    "            print(f\"Feature vector for {path}:\", features[:10])  # Show first 10 features for brevity\n",
    "        else:\n",
    "            print(f\"File not found: {path}\")"
   ]
  },
  {
   "cell_type": "code",
   "execution_count": 16,
   "id": "890b8920-e092-4692-a770-32ea17d9dfb0",
   "metadata": {},
   "outputs": [
    {
     "name": "stdout",
     "output_type": "stream",
     "text": [
      "Downloading https://download.microsoft.com/download/3/E/1/3E1C3F21-ECDB-4869-8368-6DEBA77B919F/kagglecatsanddogs_5340.zip...\n"
     ]
    },
    {
     "ename": "OSError",
     "evalue": "[Errno 28] No space left on device",
     "output_type": "error",
     "traceback": [
      "\u001b[1;31m---------------------------------------------------------------------------\u001b[0m",
      "\u001b[1;31mOSError\u001b[0m                                   Traceback (most recent call last)",
      "Cell \u001b[1;32mIn[16], line 7\u001b[0m\n\u001b[0;32m      4\u001b[0m extraction_dir \u001b[38;5;241m=\u001b[39m \u001b[38;5;124m'\u001b[39m\u001b[38;5;124mimages/\u001b[39m\u001b[38;5;124m'\u001b[39m  \u001b[38;5;66;03m# Folder where images will be extracted\u001b[39;00m\n\u001b[0;32m      6\u001b[0m \u001b[38;5;66;03m# Uncomment the line below to run it once and download/extract the files\u001b[39;00m\n\u001b[1;32m----> 7\u001b[0m download_and_extract_zip(url, extraction_dir)\n",
      "File \u001b[1;32m~\\Numpy-Project\\extract_images.py:13\u001b[0m, in \u001b[0;36mdownload_and_extract_zip\u001b[1;34m(url, extract_to)\u001b[0m\n\u001b[0;32m     11\u001b[0m response \u001b[38;5;241m=\u001b[39m requests\u001b[38;5;241m.\u001b[39mget(url)\n\u001b[0;32m     12\u001b[0m \u001b[38;5;28;01mwith\u001b[39;00m \u001b[38;5;28mopen\u001b[39m(zip_file_path, \u001b[38;5;124m'\u001b[39m\u001b[38;5;124mwb\u001b[39m\u001b[38;5;124m'\u001b[39m) \u001b[38;5;28;01mas\u001b[39;00m file:\n\u001b[1;32m---> 13\u001b[0m     file\u001b[38;5;241m.\u001b[39mwrite(response\u001b[38;5;241m.\u001b[39mcontent)\n\u001b[0;32m     14\u001b[0m \u001b[38;5;28mprint\u001b[39m(\u001b[38;5;124mf\u001b[39m\u001b[38;5;124m\"\u001b[39m\u001b[38;5;124mDownloaded ZIP file to \u001b[39m\u001b[38;5;132;01m{\u001b[39;00mzip_file_path\u001b[38;5;132;01m}\u001b[39;00m\u001b[38;5;124m\"\u001b[39m)\n\u001b[0;32m     16\u001b[0m \u001b[38;5;66;03m# Step 2: Extract the ZIP file\u001b[39;00m\n",
      "\u001b[1;31mOSError\u001b[0m: [Errno 28] No space left on device"
     ]
    }
   ],
   "source": [
    "# Step 5: Download and extract images from the provided URL (first-time setup)\n",
    "# This is only needed once, so you can comment this out after the first run\n",
    "url = 'https://download.microsoft.com/download/3/E/1/3E1C3F21-ECDB-4869-8368-6DEBA77B919F/kagglecatsanddogs_5340.zip'\n",
    "extraction_dir = 'images/'  # Folder where images will be extracted\n",
    "\n",
    "# Uncomment the line below to run it once and download/extract the files\n",
    "download_and_extract_zip(url, extraction_dir)"
   ]
  },
  {
   "cell_type": "code",
   "execution_count": null,
   "id": "b08feec8-f66a-4914-a77b-335d73425244",
   "metadata": {},
   "outputs": [],
   "source": [
    "# Step 6: Get the list of image paths\n",
    "image_paths = get_image_paths(extraction_dir)\n",
    "print(f\"Extracted image paths: {image_paths}\")"
   ]
  },
  {
   "cell_type": "code",
   "execution_count": null,
   "id": "b703598c-3b43-4640-b73f-d8dc0a6836eb",
   "metadata": {},
   "outputs": [],
   "source": [
    "# Step 7: Test feature extraction on the images\n",
    "test_feature_extraction(image_paths)"
   ]
  },
  {
   "cell_type": "code",
   "execution_count": null,
   "id": "5dfc816c-0f63-49d3-b36b-5654d267d2dd",
   "metadata": {},
   "outputs": [],
   "source": []
  }
 ],
 "metadata": {
  "kernelspec": {
   "display_name": "Python 3 (ipykernel)",
   "language": "python",
   "name": "python3"
  },
  "language_info": {
   "codemirror_mode": {
    "name": "ipython",
    "version": 3
   },
   "file_extension": ".py",
   "mimetype": "text/x-python",
   "name": "python",
   "nbconvert_exporter": "python",
   "pygments_lexer": "ipython3",
   "version": "3.12.4"
  }
 },
 "nbformat": 4,
 "nbformat_minor": 5
}
